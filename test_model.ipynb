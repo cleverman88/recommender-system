{
 "cells": [
  {
   "cell_type": "code",
   "execution_count": 1,
   "metadata": {},
   "outputs": [],
   "source": [
    "import numpy as np\n",
    "\n",
    "from db_handler import DBHandler\n",
    "from sklearn.tree import DecisionTreeClassifier\n",
    "from sklearn.model_selection import train_test_split\n",
    "\n",
    "from sklearn.metrics import mean_squared_error"
   ]
  },
  {
   "cell_type": "code",
   "execution_count": 2,
   "metadata": {},
   "outputs": [
    {
     "name": "stderr",
     "output_type": "stream",
     "text": [
      "INFO 2021-02-21 17:08:45,138 logging started\n",
      "INFO 2021-02-21 17:08:45,144 Setting up test table\n",
      "INFO 2021-02-21 17:08:45,153 Reading data from database: comp3208-train-small.csv\n"
     ]
    }
   ],
   "source": [
    "db = DBHandler()\n",
    "db.setup_test_table()\n",
    "\n",
    "highest = 0\n",
    "user_info = {}\n",
    "\n",
    "for x in db.read_data(\"comp3208-train-small.csv\"):\n",
    "    listParts = x.strip().split(',')\n",
    "    if listParts[2] == \"rating\":\n",
    "        continue\n",
    "    if int(listParts[1]) > highest:\n",
    "        highest = int(listParts[1])\n",
    "    if listParts[0] in user_info:\n",
    "        user_info[listParts[0]][listParts[1]] = float(listParts[2])\n",
    "    else:\n",
    "        user_info[listParts[0]] = {listParts[1]: float(listParts[2])}"
   ]
  },
  {
   "cell_type": "code",
   "execution_count": 3,
   "metadata": {},
   "outputs": [],
   "source": [
    "matrix = np.zeros((len(user_info), (highest + 1)), dtype=\"float32\")\n",
    "count = 0\n",
    "\n",
    "for user, info in user_info.items():\n",
    "    row = [0] * (highest + 1)\n",
    "    for item, rating in info.items():\n",
    "        row[int(item)] = rating\n",
    "    matrix[count] = row\n",
    "    count += 1"
   ]
  },
  {
   "cell_type": "code",
   "execution_count": 2,
   "metadata": {},
   "outputs": [
    {
     "name": "stderr",
     "output_type": "stream",
     "text": [
      "INFO 2021-02-19 20:14:23,053 logging started\n",
      "INFO 2021-02-19 20:14:23,059 Setting up test table\n",
      "INFO 2021-02-19 20:14:23,065 Reading data from database: comp3208-train-small.csv\n"
     ]
    }
   ],
   "source": [
    "db = DBHandler()\n",
    "db.setup_test_table()\n",
    "\n",
    "X_list = []\n",
    "y_list = []\n",
    "for x in db.read_data(\"comp3208-train-small.csv\"):\n",
    "    listParts = x.strip().split(',')\n",
    "    if listParts[2] == \"rating\":\n",
    "        continue\n",
    "    X_list.append([listParts[0], listParts[1], listParts[3]])\n",
    "    y_list.append(listParts[2])\n",
    "\n",
    "X = np.array(X_list)\n",
    "y = np.array(y_list)\n"
   ]
  },
  {
   "cell_type": "markdown",
   "metadata": {},
   "source": [
    "# Decision Tree"
   ]
  },
  {
   "cell_type": "code",
   "execution_count": 7,
   "metadata": {},
   "outputs": [],
   "source": [
    "from sklearn.tree import DecisionTreeClassifier\n",
    "\n",
    "tree = DecisionTreeClassifier(max_depth=5, random_state=0)\n",
    "\n",
    "tree.fit(X_train, y_train)\n",
    "\n",
    "prediction = tree.predict(X_test)"
   ]
  },
  {
   "cell_type": "code",
   "execution_count": 8,
   "metadata": {},
   "outputs": [
    {
     "name": "stdout",
     "output_type": "stream",
     "text": [
      "1.3974708535230393\n"
     ]
    }
   ],
   "source": [
    "print(mean_squared_error(y_test.astype(np.float64), prediction.astype(np.float64)))"
   ]
  },
  {
   "cell_type": "markdown",
   "metadata": {},
   "source": [
    "# SVC"
   ]
  },
  {
   "cell_type": "code",
   "execution_count": null,
   "metadata": {},
   "outputs": [],
   "source": [
    "from sklearn.svm import LinearSVC\n",
    "\n",
    "svc = LinearSVC(random_state=0, tol=1e-5)\n",
    "svc.fit(X_train, y_train)\n",
    "\n",
    "prediction = svc.predict(X_test)"
   ]
  },
  {
   "cell_type": "code",
   "execution_count": null,
   "metadata": {},
   "outputs": [],
   "source": [
    "print(mean_squared_error(y_test.astype(np.float64), prediction))"
   ]
  },
  {
   "cell_type": "code",
   "execution_count": null,
   "metadata": {},
   "outputs": [],
   "source": []
  }
 ],
 "metadata": {
  "kernelspec": {
   "display_name": "Python 3",
   "language": "python",
   "name": "python3"
  },
  "language_info": {
   "codemirror_mode": {
    "name": "ipython",
    "version": 3
   },
   "file_extension": ".py",
   "mimetype": "text/x-python",
   "name": "python",
   "nbconvert_exporter": "python",
   "pygments_lexer": "ipython3",
   "version": "3.8.5"
  }
 },
 "nbformat": 4,
 "nbformat_minor": 4
}
