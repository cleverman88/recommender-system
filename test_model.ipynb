{
 "cells": [
  {
   "cell_type": "code",
   "execution_count": 2,
   "metadata": {},
   "outputs": [],
   "source": [
    "import numpy as np\n",
    "import pandas as pd\n",
    "\n",
    "from db_handler import DBHandler\n",
    "from sklearn.tree import DecisionTreeClassifier\n",
    "from sklearn.model_selection import train_test_split\n",
    "\n",
    "from sklearn.metrics import mean_squared_error\n",
    "from sklearn.metrics import mean_absolute_error\n",
    "from sklearn.metrics import f1_score\n",
    "from sklearn.metrics import recall_score\n",
    "\n",
    "from surprise import Dataset\n",
    "from surprise import Reader\n",
    "from surprise import KNNWithMeans\n",
    "from surprise.model_selection import cross_validate\n",
    "from surprise import accuracy\n",
    "\n",
    "import random"
   ]
  },
  {
   "cell_type": "code",
   "execution_count": 3,
   "metadata": {},
   "outputs": [
    {
     "name": "stderr",
     "output_type": "stream",
     "text": [
      "INFO 2021-05-12 09:06:18,128 logging started\n",
      "INFO 2021-05-12 09:06:18,150 Setting up test table\n",
      "INFO 2021-05-12 09:06:18,159 Reading data from database: comp3208-train-small.csv\n"
     ]
    }
   ],
   "source": [
    "db = DBHandler()\n",
    "db.setup_test_table()\n",
    "\n",
    "R = {}\n",
    "row = 0\n",
    "col = 0\n",
    "count = 0\n",
    "\n",
    "for x in db.read_data(\"comp3208-train-small.csv\"):\n",
    "    list_parts = x.strip().split(',')\n",
    "\n",
    "    if list_parts[2] == \"rating\":\n",
    "        continue\n",
    "    \n",
    "    user = int(list_parts[0]) - 1\n",
    "    item = int(list_parts[1]) - 1\n",
    "    rating = float(list_parts[2])\n",
    "        \n",
    "    if int(user) > row:\n",
    "        row = user\n",
    "    if item > col:\n",
    "        col = item\n",
    "    \n",
    "    if user in R:\n",
    "        R[user][item] = rating\n",
    "        count += 1\n",
    "    else:\n",
    "        R[user] = {item: rating}\n",
    "        count += 1\n",
    "        \n",
    "row += 1\n",
    "col += 1"
   ]
  },
  {
   "cell_type": "code",
   "execution_count": 33,
   "metadata": {},
   "outputs": [
    {
     "name": "stderr",
     "output_type": "stream",
     "text": [
      "INFO 2021-02-26 19:12:07,503 logging started\n",
      "INFO 2021-02-26 19:12:07,505 Setting up test table\n",
      "INFO 2021-02-26 19:12:08,015 Reading data from database: comp3208-train-small.csv\n"
     ]
    },
    {
     "name": "stdout",
     "output_type": "stream",
     "text": [
      "9425745\n"
     ]
    }
   ],
   "source": [
    "db = DBHandler()\n",
    "db.setup_test_table()\n",
    "\n",
    "row = [] # user\n",
    "col = [] # item\n",
    "rating = []\n",
    "\n",
    "for x in db.read_data(\"comp3208-train-small.csv\"):\n",
    "    line_split = x.strip().split(',')\n",
    "    if line_split[2] == \"rating\":\n",
    "        continue\n",
    "    row.append(int(line_split[0]) - 1)\n",
    "    col.append(int(line_split[1]) - 1)\n",
    "    rating.append(float(line_split[2]))\n",
    "    count += 1\n",
    "    "
   ]
  },
  {
   "cell_type": "code",
   "execution_count": 28,
   "metadata": {},
   "outputs": [],
   "source": [
    "from scipy.sparse import coo_matrix\n",
    "\n",
    "R = coo_matrix((rating, (row, col)), shape=((max(row) + 1), (max(col) + 1)))"
   ]
  },
  {
   "cell_type": "code",
   "execution_count": 4,
   "metadata": {},
   "outputs": [],
   "source": [
    "user_list = np.empty(shape=count)\n",
    "movie_list = np.empty(shape=count)\n",
    "true = np.empty(shape=count)\n",
    "counter = 0\n",
    "\n",
    "for user, info in R.items():\n",
    "    for movie, rating in info.items():\n",
    "        user_list[counter] = user\n",
    "        movie_list[counter] = movie\n",
    "        true[counter] = rating\n",
    "        counter += 1"
   ]
  },
  {
   "cell_type": "code",
   "execution_count": 19,
   "metadata": {},
   "outputs": [],
   "source": [
    "# predict random\n",
    "\n",
    "np.random.seed(0)\n",
    "pred = np.random.uniform(0.5, 5, count)"
   ]
  },
  {
   "cell_type": "code",
   "execution_count": 13,
   "metadata": {},
   "outputs": [],
   "source": [
    "# predict 3.5\n",
    "\n",
    "pred = np.full(shape=count, fill_value=3.5)"
   ]
  },
  {
   "cell_type": "code",
   "execution_count": 20,
   "metadata": {},
   "outputs": [
    {
     "name": "stdout",
     "output_type": "stream",
     "text": [
      "MAE:  1.5050328707452476\n",
      "RMSE: 1.8433856578623602\n",
      "MSE:  3.3980706836126466\n",
      "F1:  0.11627098689859201\n",
      "Recall:  0.10246383707600831\n"
     ]
    }
   ],
   "source": [
    "rounder = lambda x: int(round(x * 2))\n",
    "vfunc = np.vectorize(rounder)\n",
    "\n",
    "print(\"MAE:  \" + str(mean_absolute_error(true, pred)))\n",
    "print(\"RMSE: \" + str(mean_squared_error(true, pred, squared=False)))\n",
    "print(\"MSE:  \" + str(mean_squared_error(true, pred)))\n",
    "print(\"F1:  \" + str(f1_score(vfunc(true), vfunc(pred), average='weighted')))\n",
    "print(\"Recall:  \" + str(recall_score(vfunc(true), vfunc(pred), average='weighted')))"
   ]
  },
  {
   "cell_type": "code",
   "execution_count": 15,
   "metadata": {
    "scrolled": true
   },
   "outputs": [
    {
     "name": "stdout",
     "output_type": "stream",
     "text": [
      "Computing the cosine similarity matrix...\n",
      "Done computing similarity matrix.\n"
     ]
    }
   ],
   "source": [
    "split = int(0.75 * count)\n",
    "\n",
    "random.Random(0).shuffle(user_list)\n",
    "random.Random(0).shuffle(movie_list)\n",
    "random.Random(0).shuffle(true)\n",
    "\n",
    "ratings_dict = {\n",
    "    \"user\": user_list[:split].tolist(),\n",
    "    \"movie\": movie_list[:split].tolist(),\n",
    "    \"rating\": true[:split].tolist()\n",
    "}\n",
    "\n",
    "df = pd.DataFrame(ratings_dict)\n",
    "reader = Reader(rating_scale=(0.5, 5))\n",
    "\n",
    "data = Dataset.load_from_df(df[[\"user\", \"movie\", \"rating\"]], reader)\n",
    "\n",
    "sim_options = {\n",
    "    \"name\": \"cosine\",\n",
    "    \"user_based\": False,\n",
    "}\n",
    "\n",
    "algo = KNNWithMeans(sim_options=sim_options)\n",
    "\n",
    "trainset = data.build_full_trainset()\n",
    "\n",
    "algo.fit(trainset)\n",
    "\n",
    "pred = np.empty(shape=count)\n",
    "\n",
    "for x in range(split, count):\n",
    "    pred[x] = algo.predict(user_list[x], movie_list[x]).est"
   ]
  },
  {
   "cell_type": "code",
   "execution_count": 17,
   "metadata": {},
   "outputs": [
    {
     "name": "stdout",
     "output_type": "stream",
     "text": [
      "MAE:  0.6652407275158023\n",
      "RMSE: 0.8788317162470406\n",
      "MSE:  0.7723451854817188\n",
      "F1:  0.2479312521937782\n",
      "Recall:  0.26075341712933553\n"
     ]
    }
   ],
   "source": [
    "print(\"MAE:  \" + str(mean_absolute_error(true[split:], pred[split:])))\n",
    "print(\"RMSE: \" + str(mean_squared_error(true[split:], pred[split:], squared=False)))\n",
    "print(\"MSE:  \" + str(mean_squared_error(true[split:], pred[split:])))\n",
    "print(\"F1:  \" + str(f1_score(vfunc(true[split:]), vfunc(pred[split:]), average='weighted')))\n",
    "print(\"Recall:  \" + str(recall_score(vfunc(true[split:]), vfunc(pred[split:]), average='weighted')))"
   ]
  },
  {
   "cell_type": "code",
   "execution_count": null,
   "metadata": {},
   "outputs": [],
   "source": []
  }
 ],
 "metadata": {
  "kernelspec": {
   "display_name": "Python 3",
   "language": "python",
   "name": "python3"
  },
  "language_info": {
   "codemirror_mode": {
    "name": "ipython",
    "version": 3
   },
   "file_extension": ".py",
   "mimetype": "text/x-python",
   "name": "python",
   "nbconvert_exporter": "python",
   "pygments_lexer": "ipython3",
   "version": "3.8.5"
  }
 },
 "nbformat": 4,
 "nbformat_minor": 4
}
