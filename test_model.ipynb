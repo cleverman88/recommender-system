{
 "cells": [
  {
   "cell_type": "code",
   "execution_count": 1,
   "metadata": {},
   "outputs": [],
   "source": [
    "from db_handler import DBHandler\n",
    "from sklearn.tree import DecisionTreeClassifier\n",
    "import numpy as np"
   ]
  },
  {
   "cell_type": "code",
   "execution_count": 17,
   "metadata": {},
   "outputs": [
    {
     "name": "stderr",
     "output_type": "stream",
     "text": [
      "INFO 2021-02-18 17:48:24,165 logging started\n",
      "INFO 2021-02-18 17:48:24,171 Setting up test table\n",
      "INFO 2021-02-18 17:48:26,337 Reading data from database: comp3208-train-small.csv\n"
     ]
    }
   ],
   "source": [
    "db = DBHandler()\n",
    "db.setup_test_table()\n",
    "\n",
    "X_train_list = []\n",
    "y_train_list = []\n",
    "for x in db.read_data(\"comp3208-train-small.csv\"):\n",
    "    listParts = x.strip().split(',')\n",
    "    if listParts[2] == \"rating\":\n",
    "        continue\n",
    "    X_train_list.append([listParts[0], listParts[1], listParts[3]])\n",
    "    y_train_list.append(listParts[2])\n",
    "\n",
    "X_train = np.array(X_train_list)\n",
    "y_train = np.array(y_train_list)\n"
   ]
  },
  {
   "cell_type": "code",
   "execution_count": 6,
   "metadata": {},
   "outputs": [
    {
     "name": "stderr",
     "output_type": "stream",
     "text": [
      "INFO 2021-02-18 17:37:59,703 Reading data from database: comp3208-test-small.csv\n"
     ]
    }
   ],
   "source": [
    "X_test_list = []\n",
    "for x in db.read_data(\"comp3208-test-small.csv\"):\n",
    "    listParts = x.strip().split(',')\n",
    "    X_test_list.append([listParts[0], listParts[1], listParts[2]])\n",
    "\n",
    "X_test = np.array(X_test_list)"
   ]
  },
  {
   "cell_type": "code",
   "execution_count": 21,
   "metadata": {},
   "outputs": [],
   "source": [
    "from sklearn.tree import DecisionTreeClassifier\n",
    "\n",
    "tree = DecisionTreeClassifier(max_depth=1000)\n",
    "\n",
    "tree.fit(X_train, y_train)\n",
    "\n",
    "prediction = tree.predict(X_train)"
   ]
  },
  {
   "cell_type": "code",
   "execution_count": 22,
   "metadata": {},
   "outputs": [],
   "source": [
    "from sklearn.metrics import mean_squared_error\n",
    "\n",
    "prediction = prediction.astype(np.float64)\n",
    "\n",
    "mse = mean_squared_error(y_train.astype(np.float64), prediction)"
   ]
  },
  {
   "cell_type": "code",
   "execution_count": 23,
   "metadata": {},
   "outputs": [
    {
     "name": "stdout",
     "output_type": "stream",
     "text": [
      "0.0\n"
     ]
    }
   ],
   "source": [
    "print(mse)"
   ]
  },
  {
   "cell_type": "code",
   "execution_count": null,
   "metadata": {},
   "outputs": [],
   "source": []
  }
 ],
 "metadata": {
  "kernelspec": {
   "display_name": "Python 3",
   "language": "python",
   "name": "python3"
  },
  "language_info": {
   "codemirror_mode": {
    "name": "ipython",
    "version": 3
   },
   "file_extension": ".py",
   "mimetype": "text/x-python",
   "name": "python",
   "nbconvert_exporter": "python",
   "pygments_lexer": "ipython3",
   "version": "3.8.5"
  }
 },
 "nbformat": 4,
 "nbformat_minor": 4
}
