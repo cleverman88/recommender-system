{
 "cells": [
  {
   "cell_type": "code",
   "execution_count": 1,
   "metadata": {},
   "outputs": [],
   "source": [
    "import numpy as np\n",
    "\n",
    "from db_handler import DBHandler\n",
    "from sklearn.tree import DecisionTreeClassifier\n",
    "from sklearn.model_selection import train_test_split\n",
    "\n",
    "from sklearn.metrics import mean_squared_error"
   ]
  },
  {
   "cell_type": "code",
   "execution_count": 2,
   "metadata": {},
   "outputs": [
    {
     "name": "stderr",
     "output_type": "stream",
     "text": [
      "INFO 2021-02-25 15:12:01,248 logging started\n",
      "INFO 2021-02-25 15:12:01,289 Setting up test table\n",
      "INFO 2021-02-25 15:12:01,300 Reading data from database: comp3208-train-small.csv\n"
     ]
    }
   ],
   "source": [
    "db = DBHandler()\n",
    "db.setup_test_table()\n",
    "\n",
    "highest = 0\n",
    "user_info = {}\n",
    "\n",
    "for x in db.read_data(\"comp3208-train-small.csv\"):\n",
    "    listParts = x.strip().split(',')\n",
    "    if listParts[2] == \"rating\":\n",
    "        continue\n",
    "    if int(listParts[1]) > highest:\n",
    "        highest = int(listParts[1])\n",
    "    if listParts[0] in user_info:\n",
    "        user_info[listParts[0]][listParts[1]] = float(listParts[2])\n",
    "    else:\n",
    "        user_info[listParts[0]] = {listParts[1]: float(listParts[2])}"
   ]
  },
  {
   "cell_type": "code",
   "execution_count": 3,
   "metadata": {},
   "outputs": [],
   "source": [
    "matrix = np.zeros((len(user_info), (highest + 1)), dtype=\"float32\")\n",
    "count = 0\n",
    "\n",
    "for user, info in user_info.items():\n",
    "    row = [0] * (highest + 1)\n",
    "    for item, rating in info.items():\n",
    "        row[int(item)] = rating\n",
    "    matrix[count] = row\n",
    "    count += 1"
   ]
  },
  {
   "cell_type": "code",
   "execution_count": 53,
   "metadata": {},
   "outputs": [
    {
     "name": "stderr",
     "output_type": "stream",
     "text": [
      "INFO 2021-02-25 16:26:19,789 logging started\n",
      "INFO 2021-02-25 16:26:19,794 Setting up test table\n",
      "INFO 2021-02-25 16:26:20,847 Reading data from database: comp3208-train-small.csv\n"
     ]
    }
   ],
   "source": [
    "db = DBHandler()\n",
    "db.setup_test_table()\n",
    "\n",
    "row = [] # user\n",
    "col = [] # item\n",
    "rating = []\n",
    "\n",
    "for x in db.read_data(\"comp3208-train-small.csv\"):\n",
    "    line_split = x.strip().split(',')\n",
    "    if line_split[2] == \"rating\":\n",
    "        continue\n",
    "    row.append(int(line_split[0]) - 1)\n",
    "    col.append(int(line_split[1]) - 1)\n",
    "    rating.append(float(line_split[2]))\n"
   ]
  },
  {
   "cell_type": "code",
   "execution_count": 54,
   "metadata": {},
   "outputs": [],
   "source": [
    "R = coo_matrix((rating, (row, col)), shape=((max(row) + 1), (max(col) + 1)))"
   ]
  },
  {
   "cell_type": "markdown",
   "metadata": {},
   "source": [
    "# Latent Factor Model"
   ]
  },
  {
   "cell_type": "code",
   "execution_count": 65,
   "metadata": {},
   "outputs": [],
   "source": [
    "from numpy.linalg import norm\n",
    "\n",
    "def calc_mse(R, U, V, lamda=0.02):\n",
    "    ratings = R.data\n",
    "    rows = R.row\n",
    "    cols = R.col\n",
    "    total_error = 0\n",
    "    \n",
    "    for index in range(len(ratings)):\n",
    "        rating = ratings[index]\n",
    "        user = rows[index]\n",
    "        item = cols[index]\n",
    "        \n",
    "        # lambda for regularisation\n",
    "        if rating > 0:\n",
    "            total_error = total_error + pow(rating - np.dot(U[user,:], V[:,item]), 2) + lamda * (pow(norm(U[user,:]), 2) + pow(norm(V[:,item]), 2))\n",
    "    \n",
    "    return total_error / len(ratings)"
   ]
  },
  {
   "cell_type": "code",
   "execution_count": 67,
   "metadata": {},
   "outputs": [],
   "source": [
    "def gradient_descent(R, K, lam = 0.02, steps = 10, learning_rate = 0.001):\n",
    "    # using K create matricies U and V\n",
    "    M, N = R.shape\n",
    "    U = np.random.rand(M, K)\n",
    "    V = np.random.rand(K, N)\n",
    "    mse = calc_mse(R, U, V)\n",
    "    \n",
    "    for step in range(steps):\n",
    "        for index in range(len(R.data)):\n",
    "            # --> you can parallelise this\n",
    "            rating = R.data[index]\n",
    "            user = R.row[index]\n",
    "            item = R.col[index]\n",
    "            # ignore 0 ratings as its means that no rating has been made\n",
    "            if rating > 0:\n",
    "                loss = rating - np.dot(U[user,:], V[:,item])\n",
    "                U[user,:] = U[user,:] + learning_rate * 2 * (loss * V[:,item] - lam * U[user,:])\n",
    "                V[:,item] = V[:,item] + learning_rate * 2 * (loss * U[user,:] - lam * V[:,item])\n",
    "            # <-- end\n",
    "        mse = calc_mse(R, U, V)\n",
    "    print(\"Final MSE:\", mse)\n",
    "    \n",
    "    return U, V"
   ]
  },
  {
   "cell_type": "code",
   "execution_count": 68,
   "metadata": {},
   "outputs": [
    {
     "ename": "MemoryError",
     "evalue": "Unable to allocate 42.2 GiB for an array with shape (283229, 19999) and data type float64",
     "output_type": "error",
     "traceback": [
      "\u001b[1;31m---------------------------------------------------------------------------\u001b[0m",
      "\u001b[1;31mMemoryError\u001b[0m                               Traceback (most recent call last)",
      "\u001b[1;32m<ipython-input-68-1a92818a8b98>\u001b[0m in \u001b[0;36m<module>\u001b[1;34m\u001b[0m\n\u001b[0;32m      1\u001b[0m \u001b[0mU\u001b[0m\u001b[1;33m,\u001b[0m \u001b[0mV\u001b[0m \u001b[1;33m=\u001b[0m \u001b[0mgradient_descent\u001b[0m\u001b[1;33m(\u001b[0m\u001b[0mR\u001b[0m\u001b[1;33m,\u001b[0m \u001b[0mK\u001b[0m\u001b[1;33m=\u001b[0m\u001b[1;36m3\u001b[0m\u001b[1;33m,\u001b[0m \u001b[0mgamma\u001b[0m\u001b[1;33m=\u001b[0m\u001b[1;36m0.0007\u001b[0m\u001b[1;33m,\u001b[0m \u001b[0mlamda\u001b[0m\u001b[1;33m=\u001b[0m\u001b[1;36m0.01\u001b[0m\u001b[1;33m,\u001b[0m \u001b[0msteps\u001b[0m\u001b[1;33m=\u001b[0m\u001b[1;36m10\u001b[0m\u001b[1;33m)\u001b[0m\u001b[1;33m\u001b[0m\u001b[1;33m\u001b[0m\u001b[0m\n\u001b[1;32m----> 2\u001b[1;33m \u001b[0mpredict_matrix\u001b[0m \u001b[1;33m=\u001b[0m \u001b[0mnp\u001b[0m\u001b[1;33m.\u001b[0m\u001b[0mdot\u001b[0m\u001b[1;33m(\u001b[0m\u001b[0mU\u001b[0m\u001b[1;33m,\u001b[0m \u001b[0mV\u001b[0m\u001b[1;33m)\u001b[0m\u001b[1;33m\u001b[0m\u001b[1;33m\u001b[0m\u001b[0m\n\u001b[0m",
      "\u001b[1;32m<__array_function__ internals>\u001b[0m in \u001b[0;36mdot\u001b[1;34m(*args, **kwargs)\u001b[0m\n",
      "\u001b[1;31mMemoryError\u001b[0m: Unable to allocate 42.2 GiB for an array with shape (283229, 19999) and data type float64"
     ]
    }
   ],
   "source": [
    "U, V = gradient_descent(R, K=3, gamma=0.0007, lam=0.01, steps=10)"
   ]
  },
  {
   "cell_type": "markdown",
   "metadata": {},
   "source": [
    "# Decision Tree"
   ]
  },
  {
   "cell_type": "code",
   "execution_count": 7,
   "metadata": {},
   "outputs": [],
   "source": [
    "from sklearn.tree import DecisionTreeClassifier\n",
    "\n",
    "tree = DecisionTreeClassifier(max_depth=5, random_state=0)\n",
    "\n",
    "tree.fit(X_train, y_train)\n",
    "\n",
    "prediction = tree.predict(X_test)"
   ]
  },
  {
   "cell_type": "code",
   "execution_count": 8,
   "metadata": {},
   "outputs": [
    {
     "name": "stdout",
     "output_type": "stream",
     "text": [
      "1.3974708535230393\n"
     ]
    }
   ],
   "source": [
    "print(mean_squared_error(y_test.astype(np.float64), prediction.astype(np.float64)))"
   ]
  },
  {
   "cell_type": "markdown",
   "metadata": {},
   "source": [
    "# SVC"
   ]
  },
  {
   "cell_type": "code",
   "execution_count": null,
   "metadata": {},
   "outputs": [],
   "source": [
    "from sklearn.svm import LinearSVC\n",
    "\n",
    "svc = LinearSVC(random_state=0, tol=1e-5)\n",
    "svc.fit(X_train, y_train)\n",
    "\n",
    "prediction = svc.predict(X_test)"
   ]
  },
  {
   "cell_type": "code",
   "execution_count": null,
   "metadata": {},
   "outputs": [],
   "source": [
    "print(mean_squared_error(y_test.astype(np.float64), prediction))"
   ]
  },
  {
   "cell_type": "code",
   "execution_count": null,
   "metadata": {},
   "outputs": [],
   "source": []
  }
 ],
 "metadata": {
  "kernelspec": {
   "display_name": "Python 3",
   "language": "python",
   "name": "python3"
  },
  "language_info": {
   "codemirror_mode": {
    "name": "ipython",
    "version": 3
   },
   "file_extension": ".py",
   "mimetype": "text/x-python",
   "name": "python",
   "nbconvert_exporter": "python",
   "pygments_lexer": "ipython3",
   "version": "3.8.5"
  }
 },
 "nbformat": 4,
 "nbformat_minor": 4
}
