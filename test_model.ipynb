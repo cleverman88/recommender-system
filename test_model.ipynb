{
 "cells": [
  {
   "cell_type": "code",
   "execution_count": 1,
   "metadata": {},
   "outputs": [],
   "source": [
    "import numpy as np\n",
    "import pandas as pd\n",
    "\n",
    "from db_handler import DBHandler\n",
    "from sklearn.tree import DecisionTreeClassifier\n",
    "from sklearn.model_selection import train_test_split\n",
    "\n",
    "from sklearn.metrics import mean_squared_error\n",
    "from sklearn.metrics import mean_absolute_error\n",
    "\n",
    "from surprise import Dataset\n",
    "from surprise import Reader\n",
    "from surprise import KNNWithMeans"
   ]
  },
  {
   "cell_type": "code",
   "execution_count": 2,
   "metadata": {},
   "outputs": [
    {
     "name": "stderr",
     "output_type": "stream",
     "text": [
      "INFO 2021-05-10 17:53:17,950 logging started\n",
      "INFO 2021-05-10 17:53:17,960 Setting up test table\n",
      "INFO 2021-05-10 17:53:17,965 Reading data from database: comp3208-train-small.csv\n"
     ]
    }
   ],
   "source": [
    "db = DBHandler()\n",
    "db.setup_test_table()\n",
    "\n",
    "R = {}\n",
    "row = 0\n",
    "col = 0\n",
    "count = 0\n",
    "\n",
    "for x in db.read_data(\"comp3208-train-small.csv\"):\n",
    "    list_parts = x.strip().split(',')\n",
    "\n",
    "    if list_parts[2] == \"rating\":\n",
    "        continue\n",
    "    \n",
    "    user = int(list_parts[0]) - 1\n",
    "    item = int(list_parts[1]) - 1\n",
    "    rating = float(list_parts[2])\n",
    "        \n",
    "    if int(user) > row:\n",
    "        row = user\n",
    "    if item > col:\n",
    "        col = item\n",
    "    \n",
    "    if user in R:\n",
    "        R[user][item] = rating\n",
    "        count += 1\n",
    "    else:\n",
    "        R[user] = {item: rating}\n",
    "        count += 1\n",
    "        \n",
    "row += 1\n",
    "col += 1"
   ]
  },
  {
   "cell_type": "code",
   "execution_count": 33,
   "metadata": {},
   "outputs": [
    {
     "name": "stderr",
     "output_type": "stream",
     "text": [
      "INFO 2021-02-26 19:12:07,503 logging started\n",
      "INFO 2021-02-26 19:12:07,505 Setting up test table\n",
      "INFO 2021-02-26 19:12:08,015 Reading data from database: comp3208-train-small.csv\n"
     ]
    },
    {
     "name": "stdout",
     "output_type": "stream",
     "text": [
      "9425745\n"
     ]
    }
   ],
   "source": [
    "db = DBHandler()\n",
    "db.setup_test_table()\n",
    "\n",
    "row = [] # user\n",
    "col = [] # item\n",
    "rating = []\n",
    "\n",
    "for x in db.read_data(\"comp3208-train-small.csv\"):\n",
    "    line_split = x.strip().split(',')\n",
    "    if line_split[2] == \"rating\":\n",
    "        continue\n",
    "    row.append(int(line_split[0]) - 1)\n",
    "    col.append(int(line_split[1]) - 1)\n",
    "    rating.append(float(line_split[2]))\n",
    "    count += 1\n",
    "    "
   ]
  },
  {
   "cell_type": "code",
   "execution_count": 28,
   "metadata": {},
   "outputs": [],
   "source": [
    "from scipy.sparse import coo_matrix\n",
    "\n",
    "R = coo_matrix((rating, (row, col)), shape=((max(row) + 1), (max(col) + 1)))"
   ]
  },
  {
   "cell_type": "code",
   "execution_count": 3,
   "metadata": {},
   "outputs": [],
   "source": [
    "user_list = np.empty(shape=count)\n",
    "movie_list = np.empty(shape=count)\n",
    "true = np.empty(shape=count)\n",
    "counter = 0\n",
    "\n",
    "for user, info in R.items():\n",
    "    for movie, rating in info.items():\n",
    "        user_list[counter] = user\n",
    "        movie_list[counter] = movie\n",
    "        true[counter] = rating\n",
    "        counter += 1"
   ]
  },
  {
   "cell_type": "code",
   "execution_count": 4,
   "metadata": {},
   "outputs": [],
   "source": [
    "# predict random\n",
    "\n",
    "np.random.seed(0)\n",
    "pred = np.random.uniform(0.5, 5, count)"
   ]
  },
  {
   "cell_type": "code",
   "execution_count": 13,
   "metadata": {},
   "outputs": [],
   "source": [
    "# predict 3.5\n",
    "\n",
    "pred = np.full(shape=count, fill_value=3.5)"
   ]
  },
  {
   "cell_type": "code",
   "execution_count": 32,
   "metadata": {
    "scrolled": true
   },
   "outputs": [
    {
     "name": "stdout",
     "output_type": "stream",
     "text": [
      "Computing the cosine similarity matrix...\n",
      "Done computing similarity matrix.\n"
     ]
    },
    {
     "ename": "ValueError",
     "evalue": "setting an array element with a sequence.",
     "output_type": "error",
     "traceback": [
      "\u001b[1;31m---------------------------------------------------------------------------\u001b[0m",
      "\u001b[1;31mTypeError\u001b[0m                                 Traceback (most recent call last)",
      "\u001b[1;31mTypeError\u001b[0m: float() argument must be a string or a number, not 'Prediction'",
      "\nThe above exception was the direct cause of the following exception:\n",
      "\u001b[1;31mValueError\u001b[0m                                Traceback (most recent call last)",
      "\u001b[1;32m<ipython-input-32-db03efe61ba0>\u001b[0m in \u001b[0;36m<module>\u001b[1;34m\u001b[0m\n\u001b[0;32m     26\u001b[0m \u001b[1;33m\u001b[0m\u001b[0m\n\u001b[0;32m     27\u001b[0m \u001b[1;32mfor\u001b[0m \u001b[0mx\u001b[0m \u001b[1;32min\u001b[0m \u001b[0mrange\u001b[0m\u001b[1;33m(\u001b[0m\u001b[1;36m0\u001b[0m\u001b[1;33m,\u001b[0m \u001b[0mcount\u001b[0m \u001b[1;33m+\u001b[0m \u001b[1;36m1\u001b[0m\u001b[1;33m)\u001b[0m\u001b[1;33m:\u001b[0m\u001b[1;33m\u001b[0m\u001b[1;33m\u001b[0m\u001b[0m\n\u001b[1;32m---> 28\u001b[1;33m     \u001b[0mpred\u001b[0m\u001b[1;33m[\u001b[0m\u001b[0mx\u001b[0m\u001b[1;33m]\u001b[0m \u001b[1;33m=\u001b[0m \u001b[0malgo\u001b[0m\u001b[1;33m.\u001b[0m\u001b[0mpredict\u001b[0m\u001b[1;33m(\u001b[0m\u001b[0muser_list\u001b[0m\u001b[1;33m[\u001b[0m\u001b[0mx\u001b[0m\u001b[1;33m]\u001b[0m\u001b[1;33m,\u001b[0m \u001b[0mmovie_list\u001b[0m\u001b[1;33m[\u001b[0m\u001b[0mx\u001b[0m\u001b[1;33m]\u001b[0m\u001b[1;33m)\u001b[0m\u001b[1;33m\u001b[0m\u001b[1;33m\u001b[0m\u001b[0m\n\u001b[0m\u001b[0;32m     29\u001b[0m \u001b[1;33m\u001b[0m\u001b[0m\n\u001b[0;32m     30\u001b[0m \u001b[1;31m#load as pd frame\u001b[0m\u001b[1;33m\u001b[0m\u001b[1;33m\u001b[0m\u001b[1;33m\u001b[0m\u001b[0m\n",
      "\u001b[1;31mValueError\u001b[0m: setting an array element with a sequence."
     ]
    }
   ],
   "source": [
    "ratings_dict = {\n",
    "    \"user\": user_list.tolist(),\n",
    "    \"movie\": movie_list.tolist(),\n",
    "    \"rating\": true.tolist()\n",
    "}\n",
    "\n",
    "df = pd.DataFrame(ratings_dict)\n",
    "reader = Reader(rating_scale=(0.5, 5))\n",
    "\n",
    "data = Dataset.load_from_df(df[[\"user\", \"movie\", \"rating\"]], reader)\n",
    "\n",
    "sim_options = {\n",
    "    \"name\": \"cosine\",\n",
    "    \"user_based\": False,\n",
    "}\n",
    "\n",
    "algo = KNNWithMeans(sim_options=sim_options)\n",
    "\n",
    "trainset = data.build_full_trainset()\n",
    "\n",
    "algo.fit(trainset)\n",
    "\n",
    "pred = np.empty(shape=count)\n",
    "\n",
    "for x in range(0, count):\n",
    "    pred[x] = algo.predict(user_list[x], movie_list[x]).est"
   ]
  },
  {
   "cell_type": "code",
   "execution_count": 5,
   "metadata": {},
   "outputs": [
    {
     "name": "stdout",
     "output_type": "stream",
     "text": [
      "MAE:  1.5046945317582245\n",
      "RMSE: 1.8429486510110766\n",
      "MSE:  3.3964597302635475\n"
     ]
    }
   ],
   "source": [
    "print(\"MAE:  \" + str(mean_absolute_error(true, pred)))\n",
    "print(\"RMSE: \" + str(mean_squared_error(true, pred, squared=False)))\n",
    "print(\"MSE:  \" + str(mean_squared_error(true, pred)))"
   ]
  },
  {
   "cell_type": "code",
   "execution_count": null,
   "metadata": {},
   "outputs": [],
   "source": []
  }
 ],
 "metadata": {
  "kernelspec": {
   "display_name": "Python 3",
   "language": "python",
   "name": "python3"
  },
  "language_info": {
   "codemirror_mode": {
    "name": "ipython",
    "version": 3
   },
   "file_extension": ".py",
   "mimetype": "text/x-python",
   "name": "python",
   "nbconvert_exporter": "python",
   "pygments_lexer": "ipython3",
   "version": "3.8.5"
  }
 },
 "nbformat": 4,
 "nbformat_minor": 4
}
